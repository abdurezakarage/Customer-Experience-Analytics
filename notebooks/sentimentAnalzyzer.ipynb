{
 "cells": [
  {
   "cell_type": "code",
   "execution_count": 10,
   "id": "90031599",
   "metadata": {},
   "outputs": [],
   "source": [
    "import pandas as pd\n",
    "import numpy as np\n",
    "import matplotlib.pyplot as plt\n",
    "import os\n",
    "# Add the project root directory to Python path\n",
    "import sys\n",
    "sys.path.append(os.path.abspath(os.path.join(os.path.dirname('__file__'), '..')))"
   ]
  },
  {
   "cell_type": "code",
   "execution_count": 11,
   "id": "b3503496",
   "metadata": {},
   "outputs": [],
   "source": [
    "from wordcloud import WordCloud\n",
    "from src.sentimentAnalyzer import SentimentAnalyzer"
   ]
  },
  {
   "cell_type": "code",
   "execution_count": 12,
   "id": "166c71fc",
   "metadata": {},
   "outputs": [
    {
     "data": {
      "text/html": [
       "<div>\n",
       "<style scoped>\n",
       "    .dataframe tbody tr th:only-of-type {\n",
       "        vertical-align: middle;\n",
       "    }\n",
       "\n",
       "    .dataframe tbody tr th {\n",
       "        vertical-align: top;\n",
       "    }\n",
       "\n",
       "    .dataframe thead th {\n",
       "        text-align: right;\n",
       "    }\n",
       "</style>\n",
       "<table border=\"1\" class=\"dataframe\">\n",
       "  <thead>\n",
       "    <tr style=\"text-align: right;\">\n",
       "      <th></th>\n",
       "      <th>review</th>\n",
       "      <th>rating</th>\n",
       "      <th>date</th>\n",
       "      <th>bank</th>\n",
       "    </tr>\n",
       "  </thead>\n",
       "  <tbody>\n",
       "    <tr>\n",
       "      <th>0</th>\n",
       "      <td>The previous version is much better than this ...</td>\n",
       "      <td>2</td>\n",
       "      <td>2021-01-01</td>\n",
       "      <td>CBE</td>\n",
       "    </tr>\n",
       "    <tr>\n",
       "      <th>1</th>\n",
       "      <td>The good thing is its simplicity to undertake ...</td>\n",
       "      <td>3</td>\n",
       "      <td>2023-03-15</td>\n",
       "      <td>CBE</td>\n",
       "    </tr>\n",
       "    <tr>\n",
       "      <th>2</th>\n",
       "      <td>The updated app is attractive and is working v...</td>\n",
       "      <td>4</td>\n",
       "      <td>2020-07-25</td>\n",
       "      <td>CBE</td>\n",
       "    </tr>\n",
       "    <tr>\n",
       "      <th>3</th>\n",
       "      <td>I love this app. It's simple to use and syncs ...</td>\n",
       "      <td>5</td>\n",
       "      <td>2021-09-25</td>\n",
       "      <td>CBE</td>\n",
       "    </tr>\n",
       "    <tr>\n",
       "      <th>4</th>\n",
       "      <td>It is a service that is not expected from such...</td>\n",
       "      <td>1</td>\n",
       "      <td>2024-10-16</td>\n",
       "      <td>CBE</td>\n",
       "    </tr>\n",
       "  </tbody>\n",
       "</table>\n",
       "</div>"
      ],
      "text/plain": [
       "                                              review  rating        date bank\n",
       "0  The previous version is much better than this ...       2  2021-01-01  CBE\n",
       "1  The good thing is its simplicity to undertake ...       3  2023-03-15  CBE\n",
       "2  The updated app is attractive and is working v...       4  2020-07-25  CBE\n",
       "3  I love this app. It's simple to use and syncs ...       5  2021-09-25  CBE\n",
       "4  It is a service that is not expected from such...       1  2024-10-16  CBE"
      ]
     },
     "execution_count": 12,
     "metadata": {},
     "output_type": "execute_result"
    }
   ],
   "source": [
    "# Load the dataset\n",
    "df = pd.read_csv('../data/processed/processed_reviews.csv')\n",
    "df.columns\n",
    "df.head()"
   ]
  },
  {
   "cell_type": "code",
   "execution_count": 13,
   "id": "4e318bb3",
   "metadata": {
    "vscode": {
     "languageId": "perl"
    }
   },
   "outputs": [],
   "source": [
    "analyzer = SentimentAnalyzer()"
   ]
  },
  {
   "cell_type": "code",
   "execution_count": 14,
   "id": "109423a7",
   "metadata": {},
   "outputs": [],
   "source": [
    "\n",
    "df['App_review'] = df['review'].apply(analyzer.preprocess_text)"
   ]
  },
  {
   "cell_type": "code",
   "execution_count": null,
   "id": "4f44cad7",
   "metadata": {},
   "outputs": [],
   "source": [
    "# Apply sentiment analysis\n",
    "df['sentiment_Analysis'] = df['App_review'].apply(analyzer.get_sentiment)\n",
    "\n",
    "# Display sentiment distribution\n",
    "print(df['sentiment_Analysis'].value_counts())"
   ]
  },
  {
   "cell_type": "code",
   "execution_count": null,
   "id": "f3f45729",
   "metadata": {},
   "outputs": [],
   "source": [
    "# sentiment distribution by bank\n",
    "sentiment_by_bank = df.groupby(['bank', 'sentiment_Analysis']).size().unstack(fill_value=0)\n",
    "print(\"\\nSentiment Distribution by Bank:\")\n",
    "print(sentiment_by_bank)"
   ]
  },
  {
   "cell_type": "code",
   "execution_count": null,
   "id": "5c2b1fb7",
   "metadata": {},
   "outputs": [],
   "source": [
    "       # Sentiment distribution\n",
    "df['sentiment_Analysis'].value_counts().plot(kind='bar', color=['green', 'red', 'blue'])\n",
    "plt.title('Sentiment Distribution')\n",
    "plt.xlabel('Sentiment')\n",
    "plt.ylabel('Count')\n",
    "plt.show()"
   ]
  },
  {
   "cell_type": "code",
   "execution_count": null,
   "id": "6dd341db",
   "metadata": {},
   "outputs": [],
   "source": [
    "sentiment_by_bank.plot(kind='bar', figsize=(12, 6), color=['green', 'red', 'blue'])\n",
    "\n",
    "plt.title('Sentiment Distribution by Bank')\n",
    "plt.xlabel('Bank')\n",
    "plt.ylabel('Number of Reviews')\n",
    "plt.xticks(rotation=45)\n",
    "plt.legend(title='Sentiment')\n",
    "plt.tight_layout()\n",
    "plt.show()"
   ]
  },
  {
   "cell_type": "code",
   "execution_count": null,
   "id": "18401a31",
   "metadata": {},
   "outputs": [],
   "source": [
    "# Run theme clustering\n",
    "clusters, theme_keywords = analyzer.cluster_themes(df['review'].tolist())\n",
    "\n",
    "# View the results\n",
    "print(\"Assigned Clusters:\", clusters)\n",
    "print(\"Theme Keywords per Cluster:\")\n",
    "for cluster_id, keywords in theme_keywords.items():\n",
    "    print(f\"Cluster {cluster_id}: {keywords}\")"
   ]
  },
  {
   "cell_type": "code",
   "execution_count": 15,
   "id": "50104dfa",
   "metadata": {},
   "outputs": [
    {
     "name": "stdout",
     "output_type": "stream",
     "text": [
      "Top Keywords: ['account' 'always' 'app' 'application' 'bank' 'banking' 'best' 'better'\n",
      " 'cant' 'cbe' 'dashen' 'developer' 'doesnt' 'dont' 'easy' 'error' 'even'\n",
      " 'experience' 'fast' 'feature' 'fix' 'get' 'good' 'issue' 'keep' 'like'\n",
      " 'make' 'mobile' 'money' 'need' 'new' 'one' 'option' 'phone' 'please'\n",
      " 'problem' 'service' 'show' 'super' 'time' 'transaction' 'transfer'\n",
      " 'update' 'use' 'user' 'using' 'version' 'work' 'working' 'worst']\n",
      "✅ Sentiment analysis results saved to: data/processed\\sentiment_analysis_results.csv\n"
     ]
    }
   ],
   "source": [
    "df_result, theme_keywords = analyzer.analyze_reviews(df)"
   ]
  },
  {
   "cell_type": "code",
   "execution_count": null,
   "id": "3c4edd4b",
   "metadata": {},
   "outputs": [],
   "source": [
    "summary= analyzer.plot_summary(df)\n",
    "print(summary)  "
   ]
  },
  {
   "cell_type": "code",
   "execution_count": null,
   "id": "a026c7dd",
   "metadata": {},
   "outputs": [],
   "source": []
  }
 ],
 "metadata": {
  "kernelspec": {
   "display_name": "Python 3",
   "language": "python",
   "name": "python3"
  },
  "language_info": {
   "codemirror_mode": {
    "name": "ipython",
    "version": 3
   },
   "file_extension": ".py",
   "mimetype": "text/x-python",
   "name": "python",
   "nbconvert_exporter": "python",
   "pygments_lexer": "ipython3",
   "version": "3.13.3"
  }
 },
 "nbformat": 4,
 "nbformat_minor": 5
}
